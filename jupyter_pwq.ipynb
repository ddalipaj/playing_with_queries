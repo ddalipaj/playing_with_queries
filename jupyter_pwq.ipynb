{
 "cells": [
  {
   "cell_type": "markdown",
   "metadata": {},
   "source": [
    "# 2nd Patch of Queries\n",
    "\n",
    "Recall from the first patch of queries: The last query uses a SELECT with multiple tables. Instead of that, write it with an explicit JOIN.\n",
    "\n",
    "The queries of the 2nd patch:\n",
    "\n",
    "(1) For each issue, the time of the first and the last event in changes (clue: you can use GROUP BY issue_id plust MAX() and MIN() on the relevant dates).\n",
    "\n",
    "(2) For each issue, the difference between the first and last event in changes.\n",
    "\n",
    "(3) For each patchset in each issue, the difference between the first and the last event for that patchset.\n",
    "\n",
    "(4) For each patchset in each issue, the time for \"waiting for review\" (as accurate as possible, do assumptions if you need).\n",
    "\n",
    "(5) Fo reach patchset in each issue, the time for \"waiting for developer\", similar to (4)\n",
    "\n",
    "(1) and (2), you can start using changes.issue_id as the id for the issue, but then try to JOIN to issues and get the real Gerrit id.\n",
    "\n",
    "(3), (4) and (5), you can as well start using changes.issue_id, and later JOIN with issues to get the real Gerrit id.\n"
   ]
  },
  {
   "cell_type": "code",
   "execution_count": 1,
   "metadata": {
    "collapsed": false
   },
   "outputs": [
    {
     "data": {
      "text/plain": [
       "20L"
      ]
     },
     "execution_count": 1,
     "metadata": {},
     "output_type": "execute_result"
    }
   ],
   "source": [
    "import MySQLdb\n",
    "\n",
    "db = MySQLdb.connect(user=\"root\",\n",
    "                    passwd=\"\",\n",
    "                    host=\"localhost\",\n",
    "                    port=3306,\n",
    "                    use_unicode=True)\n",
    "\n",
    "cursor = db.cursor()\n",
    "cursor.execute(\"SELECT * FROM reviews.changes LIMIT 20\") ## test query"
   ]
  },
  {
   "cell_type": "markdown",
   "metadata": {},
   "source": [
    "From the first patch of queries - The last querry query without JOIN - \n",
    "How many patches per issue with the gerrit id of the issue "
   ]
  },
  {
   "cell_type": "code",
   "execution_count": 4,
   "metadata": {
    "collapsed": false
   },
   "outputs": [
    {
     "data": {
      "text/plain": [
       "20L"
      ]
     },
     "execution_count": 4,
     "metadata": {},
     "output_type": "execute_result"
    }
   ],
   "source": [
    "cursor.execute(\"\"\"SELECT COUNT(c.new_value), i.issue, c.issue_id\n",
    "FROM reviews.changes c, reviews.issues i\n",
    "WHERE c.issue_id=i.id\n",
    "GROUP BY c.issue_id\n",
    "LIMIT 20\"\"\")"
   ]
  },
  {
   "cell_type": "markdown",
   "metadata": {
    "collapsed": true
   },
   "source": [
    "From the first patch of queries - The last querry query with JOIN - \n",
    "How many patches per issue with the gerrit id of the issue with JOIN"
   ]
  },
  {
   "cell_type": "code",
   "execution_count": 5,
   "metadata": {
    "collapsed": false
   },
   "outputs": [
    {
     "data": {
      "text/plain": [
       "20L"
      ]
     },
     "execution_count": 5,
     "metadata": {},
     "output_type": "execute_result"
    }
   ],
   "source": [
    "cursor.execute(\"\"\"SELECT COUNT(reviews.changes.new_value), reviews.issues.issue, reviews.changes.issue_id\n",
    "FROM reviews.changes\n",
    "INNER JOIN reviews.issues\n",
    "ON reviews.changes.issue_id=reviews.issues.id\n",
    "GROUP BY reviews.changes.issue_id\n",
    "LIMIT 20\"\"\")"
   ]
  },
  {
   "cell_type": "markdown",
   "metadata": {},
   "source": [
    "From the second patch of queries"
   ]
  },
  {
   "cell_type": "markdown",
   "metadata": {},
   "source": [
    "(1) For each issue, the time of the first and the last event in changes (clue: you can use GROUP BY issue_id plust MAX() and MIN() on the relevant dates)."
   ]
  },
  {
   "cell_type": "code",
   "execution_count": 17,
   "metadata": {
    "collapsed": false
   },
   "outputs": [
    {
     "data": {
      "text/plain": [
       "20L"
      ]
     },
     "execution_count": 17,
     "metadata": {},
     "output_type": "execute_result"
    }
   ],
   "source": [
    "cursor.execute(\"\"\"SELECT issue_id, MIN(changed_on),MAX(changed_on)\n",
    "FROM reviews.changes\n",
    "GROUP BY issue_id\n",
    "LIMIT 20\"\"\")"
   ]
  },
  {
   "cell_type": "markdown",
   "metadata": {},
   "source": [
    "(1) query nr 1 + using JOIN to get the Gerrit id"
   ]
  },
  {
   "cell_type": "code",
   "execution_count": 19,
   "metadata": {
    "collapsed": false
   },
   "outputs": [
    {
     "data": {
      "text/plain": [
       "20L"
      ]
     },
     "execution_count": 19,
     "metadata": {},
     "output_type": "execute_result"
    }
   ],
   "source": [
    "cursor.execute(\"\"\"SELECT c.issue_id, i.issue, MIN(c.changed_on),MAX(c.changed_on)\n",
    "FROM reviews.changes c\n",
    "INNER JOIN reviews.issues i\n",
    "ON c.issue_id = i.id\n",
    "GROUP BY issue_id\n",
    "LIMIT 20\"\"\")"
   ]
  },
  {
   "cell_type": "markdown",
   "metadata": {},
   "source": [
    "(2) For each issue, the difference between the first and last event in changes."
   ]
  },
  {
   "cell_type": "code",
   "execution_count": 20,
   "metadata": {
    "collapsed": false
   },
   "outputs": [
    {
     "name": "stderr",
     "output_type": "stream",
     "text": [
      "/home/seneca/V-ENV/ipython-S/lib/python2.7/site-packages/ipykernel/__main__.py:4: Warning: Truncated incorrect time value: '4012:44:56'\n",
      "/home/seneca/V-ENV/ipython-S/lib/python2.7/site-packages/ipykernel/__main__.py:4: Warning: Truncated incorrect time value: '4063:21:51'\n",
      "/home/seneca/V-ENV/ipython-S/lib/python2.7/site-packages/ipykernel/__main__.py:4: Warning: Truncated incorrect time value: '5498:43:03'\n",
      "/home/seneca/V-ENV/ipython-S/lib/python2.7/site-packages/ipykernel/__main__.py:4: Warning: Truncated incorrect time value: '2850:10:01'\n",
      "/home/seneca/V-ENV/ipython-S/lib/python2.7/site-packages/ipykernel/__main__.py:4: Warning: Truncated incorrect time value: '2946:46:50'\n",
      "/home/seneca/V-ENV/ipython-S/lib/python2.7/site-packages/ipykernel/__main__.py:4: Warning: Truncated incorrect time value: '3067:38:27'\n",
      "/home/seneca/V-ENV/ipython-S/lib/python2.7/site-packages/ipykernel/__main__.py:4: Warning: Truncated incorrect time value: '3198:36:57'\n"
     ]
    },
    {
     "data": {
      "text/plain": [
       "20L"
      ]
     },
     "execution_count": 20,
     "metadata": {},
     "output_type": "execute_result"
    }
   ],
   "source": [
    "cursor.execute(\"\"\"SELECT  issue_id, ABS(TIMEDIFF(MAX(changed_on),MIN(changed_on)))\n",
    "FROM reviews.changes\n",
    "GROUP BY issue_id\n",
    "LIMIT 20\"\"\")"
   ]
  },
  {
   "cell_type": "markdown",
   "metadata": {},
   "source": [
    "* The warning probably due to some configuration in python... will have to check..."
   ]
  },
  {
   "cell_type": "markdown",
   "metadata": {},
   "source": [
    "(2) query nr 2 + using JOIN to get the Gerrit id"
   ]
  },
  {
   "cell_type": "code",
   "execution_count": 22,
   "metadata": {
    "collapsed": false
   },
   "outputs": [
    {
     "name": "stderr",
     "output_type": "stream",
     "text": [
      "/home/seneca/V-ENV/ipython-S/lib/python2.7/site-packages/ipykernel/__main__.py:6: Warning: Truncated incorrect time value: '4012:44:56'\n",
      "/home/seneca/V-ENV/ipython-S/lib/python2.7/site-packages/ipykernel/__main__.py:6: Warning: Truncated incorrect time value: '4063:21:51'\n",
      "/home/seneca/V-ENV/ipython-S/lib/python2.7/site-packages/ipykernel/__main__.py:6: Warning: Truncated incorrect time value: '5498:43:03'\n",
      "/home/seneca/V-ENV/ipython-S/lib/python2.7/site-packages/ipykernel/__main__.py:6: Warning: Truncated incorrect time value: '2850:10:01'\n",
      "/home/seneca/V-ENV/ipython-S/lib/python2.7/site-packages/ipykernel/__main__.py:6: Warning: Truncated incorrect time value: '2946:46:50'\n",
      "/home/seneca/V-ENV/ipython-S/lib/python2.7/site-packages/ipykernel/__main__.py:6: Warning: Truncated incorrect time value: '3067:38:27'\n",
      "/home/seneca/V-ENV/ipython-S/lib/python2.7/site-packages/ipykernel/__main__.py:6: Warning: Truncated incorrect time value: '3198:36:57'\n"
     ]
    },
    {
     "data": {
      "text/plain": [
       "20L"
      ]
     },
     "execution_count": 22,
     "metadata": {},
     "output_type": "execute_result"
    }
   ],
   "source": [
    "cursor.execute(\"\"\"SELECT  c.issue_id, i.issue, ABS(TIMEDIFF(MAX(c.changed_on),MIN(c.changed_on)))\n",
    "FROM reviews.changes c\n",
    "INNER JOIN reviews.issues i\n",
    "ON c.issue_id = i.id\n",
    "GROUP BY c.issue_id\n",
    "LIMIT 20\"\"\")"
   ]
  },
  {
   "cell_type": "markdown",
   "metadata": {},
   "source": [
    "(3) For each patchset in each issue, the difference between the first and the last event for that patchset."
   ]
  },
  {
   "cell_type": "code",
   "execution_count": 3,
   "metadata": {
    "collapsed": false
   },
   "outputs": [
    {
     "data": {
      "text/plain": [
       "20L"
      ]
     },
     "execution_count": 3,
     "metadata": {},
     "output_type": "execute_result"
    }
   ],
   "source": [
    "cursor.execute(\"\"\"SELECT issue_id, old_value, ABS(TIMEDIFF(MAX(changed_on),MIN(changed_on)))\n",
    "FROM reviews.changes\n",
    "WHERE old_value!=\"\" AND issue_id=1\n",
    "GROUP BY issue_id, old_value\n",
    "LIMIT 20\"\"\")"
   ]
  },
  {
   "cell_type": "markdown",
   "metadata": {},
   "source": [
    "(3) query nr 3 + using JOIN to get the Gerrit id"
   ]
  },
  {
   "cell_type": "code",
   "execution_count": 4,
   "metadata": {
    "collapsed": false
   },
   "outputs": [
    {
     "data": {
      "text/plain": [
       "20L"
      ]
     },
     "execution_count": 4,
     "metadata": {},
     "output_type": "execute_result"
    }
   ],
   "source": [
    "cursor.execute(\"\"\"SELECT c.issue_id, i.issue, c.old_value, ABS(TIMEDIFF(MAX(c.changed_on),MIN(c.changed_on)))\n",
    "FROM reviews.changes c\n",
    "INNER JOIN reviews.issues i\n",
    "ON c.issue_id = i.id\n",
    "WHERE c.old_value!=\"\" AND c.issue_id=1\n",
    "GROUP BY c.issue_id, c.old_value\n",
    "LIMIT 20\"\"\")"
   ]
  },
  {
   "cell_type": "markdown",
   "metadata": {},
   "source": [
    "(4) For each patchset in each issue, the time for \"waiting for review\" (as accurate as possible, do assumptions if you need)."
   ]
  },
  {
   "cell_type": "code",
   "execution_count": 10,
   "metadata": {
    "collapsed": false
   },
   "outputs": [
    {
     "data": {
      "text/plain": [
       "0L"
      ]
     },
     "execution_count": 10,
     "metadata": {},
     "output_type": "execute_result"
    }
   ],
   "source": [
    "### create a view of the table changes that contains just the entries where the value of the atribute \n",
    "###'field' is 'Code-Review'. This will help to calculate the difference between each time a'Code-Review'\n",
    "### happens in a patchset and the first upload for that patchset (that we can match in the changes table) \n",
    "cursor.execute(\"\"\"CREATE VIEW reviews.codeReview AS\n",
    "SELECT * \n",
    "FROM reviews.changes \n",
    "WHERE field='Code-Review'\"\"\")"
   ]
  },
  {
   "cell_type": "code",
   "execution_count": 11,
   "metadata": {
    "collapsed": false
   },
   "outputs": [
    {
     "data": {
      "text/plain": [
       "20L"
      ]
     },
     "execution_count": 11,
     "metadata": {},
     "output_type": "execute_result"
    }
   ],
   "source": [
    "# the query for matching the right rows to calculate the difference\n",
    "cursor.execute(\"\"\"SELECT cr.issue_id, cr.field, cr.old_value, cr.changed_on, cs.field, cs.changed_on, ABS(TIMEDIFF(cr.changed_on,cs.changed_on))\n",
    "FROM reviews.codeReview cr  \n",
    "INNER JOIN reviews.changes cs\n",
    "ON (cr.issue_id=cs.issue_id AND cr.old_value=cs.old_value)\n",
    "WHERE (cs.field='Upload' AND cs.new_value=\"\")\n",
    "ORDER BY cr.issue_id\n",
    "LIMIT 20\"\"\")"
   ]
  },
  {
   "cell_type": "markdown",
   "metadata": {},
   "source": [
    "NOTE: the view still exists - will use it for the next queries"
   ]
  },
  {
   "cell_type": "markdown",
   "metadata": {},
   "source": [
    "(4) query nr 4 + using JOIN to get the Gerrit id"
   ]
  },
  {
   "cell_type": "code",
   "execution_count": 12,
   "metadata": {
    "collapsed": false
   },
   "outputs": [
    {
     "data": {
      "text/plain": [
       "20L"
      ]
     },
     "execution_count": 12,
     "metadata": {},
     "output_type": "execute_result"
    }
   ],
   "source": [
    "cursor.execute(\"\"\"SELECT cr.issue_id, ri.issue, cr.field, cr.old_value, cr.changed_on, cs.field, cs.changed_on, ABS(TIMEDIFF(cr.changed_on,cs.changed_on))\n",
    "FROM reviews.codeReview cr\n",
    "INNER JOIN reviews.changes cs\n",
    "ON (cr.issue_id=cs.issue_id AND cr.old_value=cs.old_value) \n",
    "JOIN reviews.issues ri\n",
    "ON cr.issue_id = ri.id\n",
    "WHERE (cs.field='Upload' AND cs.new_value=\"\")\n",
    "ORDER BY cr.issue_id\n",
    "LIMIT 20\"\"\")"
   ]
  },
  {
   "cell_type": "markdown",
   "metadata": {},
   "source": [
    "(5) For each patchset in each issue, the time for \"developers to review\" (as accurate as possible, do assumptions if you need). (NOTE: the view still exists)"
   ]
  },
  {
   "cell_type": "code",
   "execution_count": 13,
   "metadata": {
    "collapsed": false
   },
   "outputs": [
    {
     "name": "stderr",
     "output_type": "stream",
     "text": [
      "/home/seneca/V-ENV/ipython-S/lib/python2.7/site-packages/ipykernel/__main__.py:7: Warning: Truncated incorrect time value: '-1051:15:31'\n",
      "/home/seneca/V-ENV/ipython-S/lib/python2.7/site-packages/ipykernel/__main__.py:7: Warning: Truncated incorrect time value: '-2154:54:12'\n",
      "/home/seneca/V-ENV/ipython-S/lib/python2.7/site-packages/ipykernel/__main__.py:7: Warning: Truncated incorrect time value: '-1051:17:06'\n",
      "/home/seneca/V-ENV/ipython-S/lib/python2.7/site-packages/ipykernel/__main__.py:7: Warning: Truncated incorrect time value: '-2154:54:02'\n"
     ]
    },
    {
     "data": {
      "text/plain": [
       "20L"
      ]
     },
     "execution_count": 13,
     "metadata": {},
     "output_type": "execute_result"
    }
   ],
   "source": [
    "cursor.execute(\"\"\"SELECT cr.issue_id, cr.field, cr.old_value, cr.new_value, cr.changed_on, cs.issue_id, cs.field, cs.old_value, cs.new_value, cs.changed_on, ABS(TIMEDIFF(cr.changed_on,cs.changed_on))\n",
    "FROM reviews.codeReview cr  \n",
    "INNER JOIN reviews.changes cs\n",
    "ON (cr.issue_id=cs.issue_id)\n",
    "WHERE (cr.new_value=-2 AND (cs.field='Upload' AND cs.new_value=\"\" AND cs.old_value=cr.old_value+1))\n",
    "ORDER BY cr.issue_id\n",
    "LIMIT 20\"\"\")"
   ]
  },
  {
   "cell_type": "markdown",
   "metadata": {},
   "source": [
    "(5) query nr 5 + using JOIN to get the Gerrit id"
   ]
  },
  {
   "cell_type": "code",
   "execution_count": 14,
   "metadata": {
    "collapsed": false
   },
   "outputs": [
    {
     "name": "stderr",
     "output_type": "stream",
     "text": [
      "/home/seneca/V-ENV/ipython-S/lib/python2.7/site-packages/ipykernel/__main__.py:9: Warning: Truncated incorrect time value: '-1051:15:31'\n",
      "/home/seneca/V-ENV/ipython-S/lib/python2.7/site-packages/ipykernel/__main__.py:9: Warning: Truncated incorrect time value: '-2154:54:12'\n",
      "/home/seneca/V-ENV/ipython-S/lib/python2.7/site-packages/ipykernel/__main__.py:9: Warning: Truncated incorrect time value: '-1051:17:06'\n",
      "/home/seneca/V-ENV/ipython-S/lib/python2.7/site-packages/ipykernel/__main__.py:9: Warning: Truncated incorrect time value: '-2154:54:02'\n"
     ]
    },
    {
     "data": {
      "text/plain": [
       "20L"
      ]
     },
     "execution_count": 14,
     "metadata": {},
     "output_type": "execute_result"
    }
   ],
   "source": [
    "cursor.execute(\"\"\"SELECT cr.issue_id, ri.issue, cr.field, cr.old_value, cr.new_value, cr.changed_on, cs.issue_id, cs.field, cs.old_value, cs.new_value, cs.changed_on, ABS(TIMEDIFF(cr.changed_on,cs.changed_on))\n",
    "FROM reviews.codeReview cr  \n",
    "INNER JOIN reviews.changes cs\n",
    "ON (cr.issue_id=cs.issue_id) \n",
    "JOIN reviews.issues ri\n",
    "ON cr.issue_id = ri.id\n",
    "WHERE (cr.new_value=-2 AND (cs.field='Upload' AND cs.new_value=\"\" AND cs.old_value=cr.old_value+1))\n",
    "ORDER BY cr.issue_id\n",
    "LIMIT 20\"\"\")"
   ]
  }
 ],
 "metadata": {
  "kernelspec": {
   "display_name": "Python 2",
   "language": "python",
   "name": "python2"
  },
  "language_info": {
   "codemirror_mode": {
    "name": "ipython",
    "version": 2
   },
   "file_extension": ".py",
   "mimetype": "text/x-python",
   "name": "python",
   "nbconvert_exporter": "python",
   "pygments_lexer": "ipython2",
   "version": "2.7.9"
  }
 },
 "nbformat": 4,
 "nbformat_minor": 0
}
